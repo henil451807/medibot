{
 "cells": [
  {
   "cell_type": "code",
   "execution_count": 3,
   "id": "ba8a9355-f183-427b-b663-f539ec6fa579",
   "metadata": {},
   "outputs": [],
   "source": [
    "import pandas as pd\n",
    "import numpy as np"
   ]
  },
  {
   "cell_type": "code",
   "execution_count": 4,
   "id": "ac4115cb-917b-480b-9fe3-acd96a29a2a1",
   "metadata": {},
   "outputs": [
    {
     "name": "stderr",
     "output_type": "stream",
     "text": [
      "C:\\Users\\malan\\AppData\\Local\\Temp\\ipykernel_7908\\3479830686.py:1: DtypeWarning: Columns (90,91,92,93,94,95,96,97) have mixed types. Specify dtype option on import or set low_memory=False.\n",
      "  df = pd.read_csv(\"./patient_List.csv\")\n"
     ]
    }
   ],
   "source": [
    "df = pd.read_csv(\"./patient_List.csv\")"
   ]
  },
  {
   "cell_type": "code",
   "execution_count": 5,
   "id": "49895a49-e299-4770-91b4-c662e4b0cc7e",
   "metadata": {},
   "outputs": [
    {
     "name": "stderr",
     "output_type": "stream",
     "text": [
      "C:\\Users\\malan\\AppData\\Local\\Temp\\ipykernel_7908\\1301211641.py:3: DtypeWarning: Columns (90,91,92,93,94,95,96,97) have mixed types. Specify dtype option on import or set low_memory=False.\n",
      "  df = pd.read_csv(file_path)\n"
     ]
    },
    {
     "name": "stdout",
     "output_type": "stream",
     "text": [
      "Modified CSV file saved to ./Data.csv\n"
     ]
    }
   ],
   "source": [
    "# Load the CSV file into a DataFrame\n",
    "file_path = './patient_List.csv'\n",
    "df = pd.read_csv(file_path)\n",
    "\n",
    "# Replace empty strings with np.nan (or '-' if you prefer)\n",
    "df.replace(np.nan, \"NA\", inplace=True)  # For np.nan\n",
    "# df.replace('', '-', inplace=True)  # Uncomment this line if you prefer '-'\n",
    "\n",
    "# Save the modified DataFrame back to a CSV file\n",
    "output_path = './Data.csv'\n",
    "df.to_csv(output_path, index=False)\n",
    "\n",
    "print(f\"Modified CSV file saved to {output_path}\")"
   ]
  },
  {
   "cell_type": "code",
   "execution_count": 6,
   "id": "7ba75cf4-e474-4366-af24-b1906ff168af",
   "metadata": {},
   "outputs": [
    {
     "name": "stdout",
     "output_type": "stream",
     "text": [
      "Inquiry Id       0\n",
      "Inquiry Date     0\n",
      "Inquiry Month    0\n",
      "Inquiry Year     0\n",
      "Name             0\n",
      "                ..\n",
      "Remarks 32       0\n",
      "Remarks Dt 33    0\n",
      "Remarks 33       0\n",
      "Remarks Dt 34    0\n",
      "Remarks 34       0\n",
      "Length: 98, dtype: int64\n"
     ]
    }
   ],
   "source": [
    "print(df.isnull().sum())"
   ]
  },
  {
   "cell_type": "code",
   "execution_count": null,
   "id": "2935771a-a4c9-4df5-9e11-3fb681221f4f",
   "metadata": {},
   "outputs": [],
   "source": []
  }
 ],
 "metadata": {
  "kernelspec": {
   "display_name": "Python 3 (ipykernel)",
   "language": "python",
   "name": "python3"
  },
  "language_info": {
   "codemirror_mode": {
    "name": "ipython",
    "version": 3
   },
   "file_extension": ".py",
   "mimetype": "text/x-python",
   "name": "python",
   "nbconvert_exporter": "python",
   "pygments_lexer": "ipython3",
   "version": "3.11.4"
  }
 },
 "nbformat": 4,
 "nbformat_minor": 5
}
